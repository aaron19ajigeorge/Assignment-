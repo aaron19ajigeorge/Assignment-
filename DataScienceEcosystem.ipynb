{
 "cells": [
  {
   "cell_type": "markdown",
   "id": "1ba40982-6c21-46ea-a804-49f626b60861",
   "metadata": {},
   "source": [
    "#H1: Data Science Tools and Ecosystem"
   ]
  },
  {
   "cell_type": "raw",
   "id": "10f639c6-50ae-4597-93b2-6e3c4d5e7546",
   "metadata": {},
   "source": [
    "# Introduction\n",
    "In this notebook, Data Science Tools and Ecosystem are summarized."
   ]
  },
  {
   "cell_type": "markdown",
   "id": "2390dec2-5ff2-4f73-9786-2d003ea02126",
   "metadata": {},
   "source": [
    "# Data Science Languages\n",
    "\n",
    "Some of the popular languages that Data Scientists use are:\n",
    "\n",
    "1. Python\n",
    "2. R\n",
    "3. Julia\n",
    "4. SQL\n",
    "5. Java"
   ]
  },
  {
   "cell_type": "markdown",
   "id": "9e5ecf23-d324-4936-98c8-31ba28e95628",
   "metadata": {},
   "source": [
    "# Data Science Libraries\n",
    "Some of the commonly used libraries used by Data Scientists include:\n",
    "\n",
    "1. NumPy\n",
    "2. Pandas\n",
    "3. Matplotlib\n",
    "4. Scikit-learn\n",
    "5. TensorFlow\n",
    "6. Keras"
   ]
  },
  {
   "cell_type": "markdown",
   "id": "ad403e49-4f06-4d08-bd3e-a5d9a665dd97",
   "metadata": {},
   "source": [
    "# Data Science Tools\n",
    "\n",
    "| Data Science Tools |\n",
    "- - - - - - - - - - - -\n",
    "|Jupyter Notebook         |\n",
    "| RStudio                  |\n",
    "| Apache Zeppelin          |\n"
   ]
  },
  {
   "cell_type": "markdown",
   "id": "cc210625-7ea9-48af-92c2-58fda7c57ed8",
   "metadata": {},
   "source": [
    "### Arithmetic Expression Examples\n",
    "\n",
    "Below are a few examples of evaluating arithmetic expressions in Python."
   ]
  },
  {
   "cell_type": "markdown",
   "id": "f895fee2-e421-497e-85b3-063c0b50a6bd",
   "metadata": {},
   "source": [
    "# This is a simple arithmetic expression to multiply then add integers\n",
    "(3 * 4) + 5"
   ]
  },
  {
   "cell_type": "markdown",
   "id": "df29eca2-5cc5-4360-81b7-b06d57cd30db",
   "metadata": {},
   "source": [
    "# This will convert 200 minutes to hours by dividing by 60\n",
    "200 / 60"
   ]
  },
  {
   "cell_type": "markdown",
   "id": "0ac8a078-c7d3-40e9-a605-b8f157d65880",
   "metadata": {},
   "source": [
    "\n",
    "\n",
    "\n",
    "\n",
    "**Objectives:**\n",
    "\n",
    "- List popular languages for Data Science\n",
    "- List commonly used libraries in Data Science\n",
    "- Provide examples of arithmetic expressions in Python\n",
    "- Demonstrate conversion of minutes to hours\n",
    "- Introduce development environment open source tools used in Data Science"
   ]
  },
  {
   "cell_type": "markdown",
   "id": "9c39abff-9df0-4690-bc76-4ae82dad5586",
   "metadata": {},
   "source": [
    "## Lakshmi Holla\n",
    "Aaron Aji George\n"
   ]
  },
  {
   "cell_type": "code",
   "execution_count": null,
   "id": "b112d4ed-8d70-4807-a8eb-c89cb7c109bb",
   "metadata": {},
   "outputs": [],
   "source": []
  }
 ],
 "metadata": {
  "kernelspec": {
   "display_name": "Python 3 (ipykernel)",
   "language": "python",
   "name": "python3"
  },
  "language_info": {
   "codemirror_mode": {
    "name": "ipython",
    "version": 3
   },
   "file_extension": ".py",
   "mimetype": "text/x-python",
   "name": "python",
   "nbconvert_exporter": "python",
   "pygments_lexer": "ipython3",
   "version": "3.11.7"
  }
 },
 "nbformat": 4,
 "nbformat_minor": 5
}
